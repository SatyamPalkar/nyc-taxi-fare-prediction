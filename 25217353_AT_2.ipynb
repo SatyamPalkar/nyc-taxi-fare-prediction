{
 "cells": [
  {
   "cell_type": "code",
   "execution_count": 0,
   "metadata": {
    "application/vnd.databricks.v1+cell": {
     "cellMetadata": {
      "byteLimit": 2048000,
      "rowLimit": 10000
     },
     "inputWidgets": {},
     "nuid": "9623bf7a-15cc-4284-a5e8-358e0f639fac",
     "showTitle": false,
     "tableResultSettingsMap": {},
     "title": ""
    },
    "colab": {
     "base_uri": "https://localhost:8080/",
     "height": 216
    },
    "id": "u1dhkqTs6WJh",
    "outputId": "4fef18de-5e5e-4fb5-f504-791d5596dbaa"
   },
   "outputs": [],
   "source": [
    "catalog = \"workspace\"\n",
    "schema  = \"bde\"\n",
    "volume  = \"assignment2\"\n",
    "\n",
    "GREEN_DST = f\"/Volumes/{catalog}/{schema}/{volume}/green\"\n",
    "YELLOW_DST = f\"/Volumes/{catalog}/{schema}/{volume}/yellow\"\n",
    "\n",
    "\n",
    "spark.sql(f\"CREATE CATALOG IF NOT EXISTS {catalog}\")\n",
    "spark.sql(f\"CREATE SCHEMA  IF NOT EXISTS {catalog}.{schema}\")\n",
    "spark.sql(f\"CREATE VOLUME  IF NOT EXISTS {catalog}.{schema}.{volume}\")\n",
    "\n",
    "dbutils.fs.mkdirs(GREEN_DST)\n",
    "dbutils.fs.mkdirs(YELLOW_DST)"
   ]
  },
  {
   "cell_type": "code",
   "execution_count": 0,
   "metadata": {
    "application/vnd.databricks.v1+cell": {
     "cellMetadata": {
      "byteLimit": 2048000,
      "rowLimit": 10000
     },
     "inputWidgets": {},
     "nuid": "3fdfedc3-7adf-4af2-b70e-611375a6e519",
     "showTitle": false,
     "tableResultSettingsMap": {},
     "title": ""
    },
    "id": "_8C9D5gF6WJk"
   },
   "outputs": [],
   "source": [
    "import pkgutil\n",
    "import sys\n",
    "import subprocess\n",
    "from pathlib import Path\n",
    "\n",
    "if not pkgutil.find_loader(\"gdown\"):\n",
    "    subprocess.check_call([sys.executable, \"-m\", \"pip\", \"install\", \"gdown\"])\n",
    "\n",
    "import gdown\n",
    "\n",
    "def fetch_to_volume(file_id: str, dst_dir: str, fname: str):\n",
    "    url = f\"https://drive.google.com/uc?id={file_id}\"\n",
    "    dst_path = f\"{dst_dir}/{fname}\"\n",
    "    gdown.download(url, dst_path, quiet=False)\n",
    "    return dst_path"
   ]
  },
  {
   "cell_type": "code",
   "execution_count": 0,
   "metadata": {
    "application/vnd.databricks.v1+cell": {
     "cellMetadata": {
      "byteLimit": 2048000,
      "rowLimit": 10000
     },
     "inputWidgets": {},
     "nuid": "678550ea-ed53-4479-b8a3-baa28f10978f",
     "showTitle": false,
     "tableResultSettingsMap": {},
     "title": ""
    },
    "id": "SbfvBZui6WJl"
   },
   "outputs": [],
   "source": [
    "green_ids = [\n",
    "    (\"1XlToYPB2fJ9Ky6VlNLIjWggDBXvpF-Cd\", \"green_taxi.parquet\")\n",
    "]\n",
    "\n",
    "for fid, fname in green_ids:\n",
    "    fetch_to_volume(fid, GREEN_DST, fname)"
   ]
  },
  {
   "cell_type": "code",
   "execution_count": 0,
   "metadata": {
    "application/vnd.databricks.v1+cell": {
     "cellMetadata": {
      "byteLimit": 2048000,
      "rowLimit": 10000
     },
     "inputWidgets": {},
     "nuid": "12fc47df-a638-483d-9543-38d34d5ea060",
     "showTitle": false,
     "tableResultSettingsMap": {},
     "title": ""
    },
    "id": "9qhqL_jM6WJm"
   },
   "outputs": [],
   "source": [
    "yellow_ids = [\n",
    "    (\"1W-f4gXbYrfqS6nWoLestn_1xBJSq8M1r\", \"yellow_taxi.parquet\")\n",
    "]\n",
    "\n",
    "\n",
    "for fid, fname in yellow_ids:\n",
    "    fetch_to_volume(fid, YELLOW_DST, fname)"
   ]
  },
  {
   "cell_type": "code",
   "execution_count": 0,
   "metadata": {
    "application/vnd.databricks.v1+cell": {
     "cellMetadata": {
      "byteLimit": 2048000,
      "rowLimit": 10000
     },
     "inputWidgets": {},
     "nuid": "34a042a6-136a-4d33-8857-6d6390d75e54",
     "showTitle": false,
     "tableResultSettingsMap": {},
     "title": ""
    },
    "id": "fDEmHox_6WJm"
   },
   "outputs": [],
   "source": [
    "print(\"Files now in Volume:\")\n",
    "display(dbutils.fs.ls(GREEN_DST))\n",
    "display(dbutils.fs.ls(YELLOW_DST))"
   ]
  },
  {
   "cell_type": "code",
   "execution_count": 0,
   "metadata": {
    "application/vnd.databricks.v1+cell": {
     "cellMetadata": {
      "byteLimit": 2048000,
      "rowLimit": 10000
     },
     "inputWidgets": {},
     "nuid": "05549bdd-ac5b-4c1c-bfd6-59a7ba1dcc07",
     "showTitle": false,
     "tableResultSettingsMap": {},
     "title": ""
    },
    "id": "fvdD5WBv6WJn"
   },
   "outputs": [],
   "source": [
    "green_df  = spark.read.parquet(GREEN_DST)\n",
    "display(green_df)\n",
    "green_df.count() "
   ]
  },
  {
   "cell_type": "code",
   "execution_count": 0,
   "metadata": {
    "application/vnd.databricks.v1+cell": {
     "cellMetadata": {
      "byteLimit": 2048000,
      "rowLimit": 10000
     },
     "inputWidgets": {},
     "nuid": "ac28b234-db78-437c-9fcc-3bfb15f1159f",
     "showTitle": false,
     "tableResultSettingsMap": {},
     "title": ""
    },
    "id": "6W70akJa6WJo"
   },
   "outputs": [],
   "source": [
    "yellow_df = spark.read.parquet(YELLOW_DST)\n",
    "display(yellow_df)\n",
    "yellow_df.count() "
   ]
  },
  {
   "cell_type": "code",
   "execution_count": 0,
   "metadata": {
    "application/vnd.databricks.v1+cell": {
     "cellMetadata": {
      "byteLimit": 2048000,
      "rowLimit": 10000
     },
     "inputWidgets": {},
     "nuid": "5b975b66-da5a-4cd4-96e2-13970c4e9ab1",
     "showTitle": false,
     "tableResultSettingsMap": {},
     "title": ""
    },
    "id": "mOybLeHY6WJq"
   },
   "outputs": [],
   "source": [
    "green_count  = green_df.count()\n",
    "yellow_count = yellow_df.count()\n",
    "total_count  = green_count + yellow_count\n",
    "\n",
    "print(green_count)\n",
    "print(yellow_count)\n",
    "print(total_count) \n"
   ]
  },
  {
   "cell_type": "code",
   "execution_count": 0,
   "metadata": {
    "application/vnd.databricks.v1+cell": {
     "cellMetadata": {
      "byteLimit": 2048000,
      "rowLimit": 10000
     },
     "inputWidgets": {},
     "nuid": "28f910b1-1058-43ff-ad06-16a3dd2e8117",
     "showTitle": false,
     "tableResultSettingsMap": {},
     "title": ""
    }
   },
   "outputs": [],
   "source": [
    "yellow_df = spark.read.parquet(\"/Volumes/workspace/bde/assignment2/yellow\")\n",
    "green_df = spark.read.parquet(\"/Volumes/workspace/bde/assignment2/green\")\n",
    "location_df = spark.read.csv(\n",
    "    \"/Volumes/workspace/bde/assignment2/Taxi_CSV/taxi_zone_lookup.csv\",\n",
    "    header=True,\n",
    "    inferSchema=True\n",
    ")"
   ]
  },
  {
   "cell_type": "code",
   "execution_count": 0,
   "metadata": {
    "application/vnd.databricks.v1+cell": {
     "cellMetadata": {
      "byteLimit": 2048000,
      "rowLimit": 10000
     },
     "inputWidgets": {},
     "nuid": "37982442-f544-4f44-b6e8-a22995e0650d",
     "showTitle": false,
     "tableResultSettingsMap": {},
     "title": ""
    }
   },
   "outputs": [],
   "source": [
    "green_df.printSchema()\n"
   ]
  },
  {
   "cell_type": "code",
   "execution_count": 0,
   "metadata": {
    "application/vnd.databricks.v1+cell": {
     "cellMetadata": {
      "byteLimit": 2048000,
      "rowLimit": 10000
     },
     "inputWidgets": {},
     "nuid": "8258ceff-6a21-4e89-900f-a34a36cc5815",
     "showTitle": false,
     "tableResultSettingsMap": {},
     "title": ""
    }
   },
   "outputs": [],
   "source": [
    "from pyspark.sql.functions import col\n",
    "\n",
    "if \"tpep_pickup_datetime\" in yellow_df.columns:\n",
    "    yellow_df = yellow_df.withColumnRenamed(\"tpep_pickup_datetime\", \"pickup_datetime\") \\\n",
    "                         .withColumnRenamed(\"tpep_dropoff_datetime\", \"dropoff_datetime\")\n",
    "\n",
    "if \"lpep_pickup_datetime\" in green_df.columns:\n",
    "    green_df = green_df.withColumnRenamed(\"lpep_pickup_datetime\", \"pickup_datetime\") \\\n",
    "                       .withColumnRenamed(\"lpep_dropoff_datetime\", \"dropoff_datetime\")\n",
    "\n",
    "yellow_df.printSchema()\n",
    "green_df.printSchema()\n"
   ]
  },
  {
   "cell_type": "code",
   "execution_count": 0,
   "metadata": {
    "application/vnd.databricks.v1+cell": {
     "cellMetadata": {
      "byteLimit": 2048000,
      "rowLimit": 10000
     },
     "inputWidgets": {},
     "nuid": "aae6a74c-1601-46b7-a0af-ace6bf9fcbdd",
     "showTitle": false,
     "tableResultSettingsMap": {},
     "title": ""
    }
   },
   "outputs": [],
   "source": [
    "from pyspark.sql.functions import expr, unix_timestamp, col, when\n",
    "\n",
    "\n",
    "df = yellow_df.withColumn(\n",
    "    \"duration_sec\", unix_timestamp(\"dropoff_datetime\") - unix_timestamp(\"pickup_datetime\")\n",
    ").withColumn(\n",
    "    \"speed_kph\", expr(\"try_divide(trip_distance, duration_sec/3600.0)\")\n",
    ")\n"
   ]
  },
  {
   "cell_type": "code",
   "execution_count": 0,
   "metadata": {
    "application/vnd.databricks.v1+cell": {
     "cellMetadata": {
      "byteLimit": 2048000,
      "rowLimit": 10000
     },
     "inputWidgets": {},
     "nuid": "80bb3d3d-0ec2-4323-a3b2-6cc49ef49224",
     "showTitle": false,
     "tableResultSettingsMap": {},
     "title": ""
    }
   },
   "outputs": [],
   "source": [
    "from pyspark.sql.functions import col, when, unix_timestamp, lit\n",
    "from pyspark.sql import functions as F\n",
    "\n",
    "def clean_trips_percentile(df, has_airport_fee=False):\n",
    "    df = df.withColumn(\n",
    "        \"duration_sec\", \n",
    "        unix_timestamp(\"dropoff_datetime\") - unix_timestamp(\"pickup_datetime\")\n",
    "    )\n",
    "    df = df.withColumn(\n",
    "        \"speed_kph\", \n",
    "        when(col(\"duration_sec\") > 0, col(\"trip_distance\") / (col(\"duration_sec\") / 3600.0))\n",
    "        .otherwise(None)\n",
    "    )\n",
    "\n",
    "    df = df.filter(\n",
    "        col(\"pickup_datetime\").isNotNull() & \n",
    "        col(\"dropoff_datetime\").isNotNull() & \n",
    "        (col(\"dropoff_datetime\") > col(\"pickup_datetime\"))\n",
    "    )\n",
    "    df = df.filter((col(\"duration_sec\") >= 30) & (col(\"duration_sec\") <= 12000))\n",
    "\n",
    "    df = df.filter((col(\"trip_distance\") >= 0.1) & (col(\"trip_distance\") <= 100))\n",
    "\n",
    "    df = df.filter(\n",
    "        (col(\"speed_kph\").isNull()) | ((col(\"speed_kph\") > 0) & (col(\"speed_kph\") <= 120))\n",
    "    )\n",
    "\n",
    "    df = df.withColumn(\n",
    "        \"passenger_count\", \n",
    "        when((col(\"passenger_count\").isNull()) | (col(\"passenger_count\") <= 0), 1)\n",
    "        .when(col(\"passenger_count\") > 6, 6)\n",
    "        .otherwise(col(\"passenger_count\"))\n",
    "    )\n",
    "\n",
    "    base_amount = (\n",
    "        col(\"fare_amount\") + col(\"extra\") + col(\"mta_tax\") + \n",
    "        col(\"tip_amount\") + col(\"tolls_amount\") + \n",
    "        col(\"improvement_surcharge\") + col(\"congestion_surcharge\")\n",
    "    )\n",
    "    if has_airport_fee and \"airport_fee\" in df.columns:\n",
    "        base_amount = base_amount + col(\"airport_fee\")\n",
    "\n",
    "    df = df.withColumn(\n",
    "        \"total_amount\",\n",
    "        when((col(\"total_amount\").isNull()) | (col(\"total_amount\") <= 0), base_amount)\n",
    "        .otherwise(col(\"total_amount\"))\n",
    "    )\n",
    "\n",
    "    df = df.filter((col(\"pickup_datetime\").isNotNull()) & (col(\"dropoff_datetime\").isNotNull()))\n",
    "    df = df.filter((F.year(\"pickup_datetime\") >= 2009) & (F.year(\"pickup_datetime\") <= 2024))\n",
    "\n",
    "    return df\n"
   ]
  },
  {
   "cell_type": "code",
   "execution_count": 0,
   "metadata": {
    "application/vnd.databricks.v1+cell": {
     "cellMetadata": {
      "byteLimit": 2048000,
      "rowLimit": 10000
     },
     "inputWidgets": {},
     "nuid": "553f1f95-7363-421f-acf8-02a6f9e0a145",
     "showTitle": false,
     "tableResultSettingsMap": {},
     "title": ""
    }
   },
   "outputs": [],
   "source": [
    "yellow_clean = clean_trips_percentile(yellow_df)\n",
    "green_clean = clean_trips_percentile(green_df)\n",
    "\n",
    "\n",
    "yellow_total, green_total = yellow_df.count(), green_df.count()\n",
    "yellow_clean_total, green_clean_total = yellow_clean.count(), green_clean.count()\n",
    "\n",
    "yellow_removed_pct = (yellow_total - yellow_clean_total) / yellow_total * 100\n",
    "green_removed_pct = (green_total - green_clean_total) / green_total * 100\n",
    "\n",
    "print(f\"Yellow Removed: {yellow_removed_pct:.2f}%\")\n",
    "print(f\"Green Removed: {green_removed_pct:.2f}%\")"
   ]
  },
  {
   "cell_type": "code",
   "execution_count": 0,
   "metadata": {
    "application/vnd.databricks.v1+cell": {
     "cellMetadata": {
      "byteLimit": 2048000,
      "rowLimit": 10000
     },
     "inputWidgets": {},
     "nuid": "0c2f1d96-dd90-496c-b089-802c46e0c120",
     "showTitle": false,
     "tableResultSettingsMap": {},
     "title": ""
    }
   },
   "outputs": [],
   "source": [
    "from pyspark.sql.functions import lit\n",
    "\n",
    "yellow_clean = (yellow_clean\n",
    "    .withColumn(\"ehail_fee\", lit(0.0))             \n",
    "    .withColumn(\"trip_type\", lit(None).cast(\"double\"))  \n",
    ")\n",
    "\n",
    "green_clean = green_clean.withColumn(\"airport_fee\", lit(0.0))\n",
    "\n",
    "yellow_clean = yellow_clean.withColumn(\"taxi_color\", lit(\"yellow\"))\n",
    "green_clean  = green_clean.withColumn(\"taxi_color\", lit(\"green\"))\n",
    "\n",
    "final_cols = sorted(set(yellow_clean.columns) | set(green_clean.columns))\n",
    "\n",
    "yellow_final = yellow_clean.select(final_cols)\n",
    "green_final  = green_clean.select(final_cols)\n",
    "\n",
    "combined_df = yellow_final.unionByName(green_final)\n",
    "\n",
    "print(\"Combined total rows:\", combined_df.count())\n"
   ]
  },
  {
   "cell_type": "code",
   "execution_count": 0,
   "metadata": {
    "application/vnd.databricks.v1+cell": {
     "cellMetadata": {
      "byteLimit": 2048000,
      "rowLimit": 10000
     },
     "inputWidgets": {},
     "nuid": "79d4229a-f725-4b69-adda-de740e82a6b9",
     "showTitle": false,
     "tableResultSettingsMap": {},
     "title": ""
    }
   },
   "outputs": [],
   "source": [
    "from pyspark.sql.functions import col\n",
    "\n",
    "location_df = spark.read.csv(\n",
    "    \"/Volumes/workspace/bde/assignment2/Taxi_CSV/taxi_zone_lookup.csv\",\n",
    "    header=True,\n",
    "    inferSchema=True\n",
    ")\n",
    "\n",
    "pickup_loc = location_df.select(\n",
    "    col(\"LocationID\").alias(\"PULocationID_lookup\"),\n",
    "    col(\"Borough\").alias(\"pickup_borough\"),\n",
    "    col(\"Zone\").alias(\"pickup_zone\"),\n",
    "    col(\"service_zone\").alias(\"pickup_service_zone\")\n",
    ")\n",
    "\n",
    "dropoff_loc = location_df.select(\n",
    "    col(\"LocationID\").alias(\"DOLocationID_lookup\"),\n",
    "    col(\"Borough\").alias(\"dropoff_borough\"),\n",
    "    col(\"Zone\").alias(\"dropoff_zone\"),\n",
    "    col(\"service_zone\").alias(\"dropoff_service_zone\")\n",
    ")\n",
    "\n",
    "combined_df = (combined_df\n",
    "    .join(pickup_loc, combined_df[\"PULocationID\"] == col(\"PULocationID_lookup\"), \"left\")\n",
    "    .drop(\"PULocationID_lookup\")\n",
    "    .join(dropoff_loc, combined_df[\"DOLocationID\"] == col(\"DOLocationID_lookup\"), \"left\")\n",
    "    .drop(\"DOLocationID_lookup\")\n",
    ")\n",
    "\n",
    "combined_df.printSchema()\n"
   ]
  },
  {
   "cell_type": "code",
   "execution_count": 0,
   "metadata": {
    "application/vnd.databricks.v1+cell": {
     "cellMetadata": {
      "byteLimit": 2048000,
      "rowLimit": 10000
     },
     "inputWidgets": {},
     "nuid": "8aaa900e-e70d-49e6-8304-30da807dde7f",
     "showTitle": false,
     "tableResultSettingsMap": {},
     "title": ""
    }
   },
   "outputs": [],
   "source": [
    "from pyspark.sql.functions import col, sum\n",
    "\n",
    "combined_df.select(\n",
    "    [sum(col(c).isNull().cast(\"int\")).alias(c) for c in [\n",
    "        \"pickup_datetime\", \"dropoff_datetime\", \n",
    "        \"PULocationID\", \"DOLocationID\", \n",
    "        \"trip_distance\", \"total_amount\", \"passenger_count\"\n",
    "    ]]\n",
    ").show()\n"
   ]
  },
  {
   "cell_type": "code",
   "execution_count": 0,
   "metadata": {
    "application/vnd.databricks.v1+cell": {
     "cellMetadata": {
      "byteLimit": 2048000,
      "rowLimit": 10000
     },
     "inputWidgets": {},
     "nuid": "a0429d2e-c405-4ebb-bd56-8a5d6aaea381",
     "showTitle": false,
     "tableResultSettingsMap": {},
     "title": ""
    }
   },
   "outputs": [],
   "source": [
    "combined_df.select(\n",
    "    \"pickup_datetime\", \"dropoff_datetime\", \n",
    "    \"pickup_borough\", \"dropoff_borough\", \n",
    "    \"trip_distance\", \"total_amount\", \"passenger_count\"\n",
    ").show(10, truncate=False)\n"
   ]
  },
  {
   "cell_type": "code",
   "execution_count": 0,
   "metadata": {
    "application/vnd.databricks.v1+cell": {
     "cellMetadata": {
      "byteLimit": 2048000,
      "rowLimit": 10000
     },
     "inputWidgets": {},
     "nuid": "2b5703a1-6669-4288-883b-ab0921ed5c55",
     "showTitle": false,
     "tableResultSettingsMap": {},
     "title": ""
    }
   },
   "outputs": [],
   "source": [
    "combined_df.selectExpr(\n",
    "    \"min(trip_distance) as min_dist\",\n",
    "    \"max(trip_distance) as max_dist\",\n",
    "    \"avg(trip_distance) as avg_dist\"\n",
    ").show()\n"
   ]
  },
  {
   "cell_type": "code",
   "execution_count": 0,
   "metadata": {
    "application/vnd.databricks.v1+cell": {
     "cellMetadata": {
      "byteLimit": 2048000,
      "rowLimit": 10000
     },
     "inputWidgets": {},
     "nuid": "935fd8c1-4c8d-4df9-871c-1787740a7f9d",
     "showTitle": false,
     "tableResultSettingsMap": {},
     "title": ""
    }
   },
   "outputs": [],
   "source": [
    "combined_df = combined_df.filter((col(\"trip_distance\") > 0.05) & (col(\"trip_distance\") < 100))\n",
    "combined_df = combined_df.filter(col(\"total_amount\").isNotNull())\n"
   ]
  },
  {
   "cell_type": "code",
   "execution_count": 0,
   "metadata": {
    "application/vnd.databricks.v1+cell": {
     "cellMetadata": {
      "byteLimit": 2048000,
      "rowLimit": 10000
     },
     "inputWidgets": {},
     "nuid": "629cb1dd-cf71-4bcf-97ba-a2bdff6a870b",
     "showTitle": false,
     "tableResultSettingsMap": {},
     "title": ""
    }
   },
   "outputs": [],
   "source": [
    "combined_df.createOrReplaceTempView(\"taxi_trips\")\n",
    "\n"
   ]
  },
  {
   "cell_type": "code",
   "execution_count": 0,
   "metadata": {
    "application/vnd.databricks.v1+cell": {
     "cellMetadata": {
      "byteLimit": 2048000,
      "implicitDf": true,
      "rowLimit": 10000
     },
     "inputWidgets": {},
     "nuid": "e5e54c04-bf42-4f3c-956c-a5e8a9008ba3",
     "showTitle": false,
     "tableResultSettingsMap": {},
     "title": ""
    }
   },
   "outputs": [],
   "source": [
    "\n",
    "%sql\n",
    "SELECT * FROM taxi_trips LIMIT 10;\n"
   ]
  },
  {
   "cell_type": "markdown",
   "metadata": {
    "application/vnd.databricks.v1+cell": {
     "cellMetadata": {
      "byteLimit": 2048000,
      "rowLimit": 10000
     },
     "inputWidgets": {},
     "nuid": "8b0ab9f4-fce4-4d71-9adc-7ec107528ea5",
     "showTitle": false,
     "tableResultSettingsMap": {},
     "title": ""
    }
   },
   "source": [
    "###**Q1 b) Which day of week (e.g. monday, tuesday, etc..) had the most trips**"
   ]
  },
  {
   "cell_type": "markdown",
   "metadata": {
    "application/vnd.databricks.v1+cell": {
     "cellMetadata": {
      "byteLimit": 2048000,
      "rowLimit": 10000
     },
     "inputWidgets": {},
     "nuid": "6cfcc0b9-4b9b-45e8-b441-7fba29785dd4",
     "showTitle": false,
     "tableResultSettingsMap": {},
     "title": ""
    }
   },
   "source": [
    "###**Q1 c) Which hour of the day had the most trips**"
   ]
  },
  {
   "cell_type": "markdown",
   "metadata": {
    "application/vnd.databricks.v1+cell": {
     "cellMetadata": {
      "byteLimit": 2048000,
      "rowLimit": 10000
     },
     "inputWidgets": {},
     "nuid": "a9208ed8-ad46-4a22-992b-18a2567fdfaa",
     "showTitle": false,
     "tableResultSettingsMap": {},
     "title": ""
    }
   },
   "source": [
    "###**Q1 d)What was the average number of passengers**"
   ]
  },
  {
   "cell_type": "markdown",
   "metadata": {
    "application/vnd.databricks.v1+cell": {
     "cellMetadata": {
      "byteLimit": 2048000,
      "rowLimit": 10000
     },
     "inputWidgets": {},
     "nuid": "213c36e1-8d4d-4136-87ae-584050d0e1ba",
     "showTitle": false,
     "tableResultSettingsMap": {},
     "title": ""
    }
   },
   "source": [
    "###**Q1 e) What was the average amount paid per trip (using total_amount)**"
   ]
  },
  {
   "cell_type": "markdown",
   "metadata": {
    "application/vnd.databricks.v1+cell": {
     "cellMetadata": {
      "byteLimit": 2048000,
      "rowLimit": 10000
     },
     "inputWidgets": {},
     "nuid": "90e92693-e4a3-48a3-891e-25ea542cd6c7",
     "showTitle": false,
     "tableResultSettingsMap": {},
     "title": ""
    }
   },
   "source": [
    "###**Q1 f) What was the average amount paid per passenger (using total_amount)**"
   ]
  },
  {
   "cell_type": "code",
   "execution_count": 0,
   "metadata": {
    "application/vnd.databricks.v1+cell": {
     "cellMetadata": {
      "byteLimit": 2048000,
      "implicitDf": true,
      "rowLimit": 10000
     },
     "inputWidgets": {},
     "nuid": "29d95bf7-970e-46a0-8a47-826084133ef4",
     "showTitle": false,
     "tableResultSettingsMap": {},
     "title": ""
    }
   },
   "outputs": [],
   "source": [
    "%sql\n",
    "SELECT \n",
    "    YEAR(pickup_datetime) AS year,\n",
    "    MONTH(pickup_datetime) AS month,\n",
    "\n",
    "    COUNT(*) AS total_trips,\n",
    "\n",
    "    DAYOFWEEK(pickup_datetime) AS weekday_num,\n",
    "\n",
    "    HOUR(pickup_datetime) AS hour_of_day,\n",
    "\n",
    "    ROUND(AVG(passenger_count), 2) AS avg_passengers,\n",
    "    \n",
    "    ROUND(AVG(total_amount), 2) AS avg_amount_per_trip,\n",
    "    \n",
    "    ROUND(AVG(total_amount / NULLIF(passenger_count,0)), 2) AS avg_amount_per_passenger\n",
    "\n",
    "FROM taxi_trips\n",
    "WHERE YEAR(pickup_datetime) BETWEEN 2009 AND 2024\n",
    "  AND passenger_count > 0\n",
    "GROUP BY \n",
    "    YEAR(pickup_datetime),\n",
    "    MONTH(pickup_datetime),\n",
    "    DAYOFWEEK(pickup_datetime),\n",
    "    HOUR(pickup_datetime)\n",
    "ORDER BY year, month, weekday_num, hour_of_day;\n"
   ]
  },
  {
   "cell_type": "markdown",
   "metadata": {
    "application/vnd.databricks.v1+cell": {
     "cellMetadata": {
      "byteLimit": 2048000,
      "rowLimit": 10000
     },
     "inputWidgets": {},
     "nuid": "1fdac86d-55e7-432b-a27a-4c0c50d4e2ff",
     "showTitle": false,
     "tableResultSettingsMap": {},
     "title": ""
    }
   },
   "source": [
    "**Trip volumes steadily increased from 2009, peaking in 2013–2014 at more than 16M trips per month, before gradually declining through the late 2010s. In 2020, trip counts collapsed to as low as 263K in April 2020 due to COVID-19 restrictions, compared with over 6–7M in the months just prior. A gradual recovery followed from 2021 onward, with monthly volumes rising above 3M by 2023–2024, though still below historic highs. This trajectory highlights both the long-term decline in ridership since 2015 and the dramatic but temporary pandemic shock in 2020.**"
   ]
  },
  {
   "cell_type": "markdown",
   "metadata": {
    "application/vnd.databricks.v1+cell": {
     "cellMetadata": {
      "byteLimit": 2048000,
      "rowLimit": 10000
     },
     "inputWidgets": {},
     "nuid": "039ef70e-61e4-4791-ad5c-a0d24b47202e",
     "showTitle": false,
     "tableResultSettingsMap": {},
     "title": ""
    }
   },
   "source": [
    "# **Part 2**"
   ]
  },
  {
   "cell_type": "markdown",
   "metadata": {
    "application/vnd.databricks.v1+cell": {
     "cellMetadata": {
      "byteLimit": 2048000,
      "rowLimit": 10000
     },
     "inputWidgets": {},
     "nuid": "3e01941e-014c-4b07-922b-5312c285b899",
     "showTitle": false,
     "tableResultSettingsMap": {},
     "title": ""
    }
   },
   "source": [
    "###**Q2 a)What was the average, median, minimum and maximum trip duration in minutes (with 2 decimals, eg. 90 seconds = 1.50 min)**"
   ]
  },
  {
   "cell_type": "markdown",
   "metadata": {
    "application/vnd.databricks.v1+cell": {
     "cellMetadata": {
      "byteLimit": 2048000,
      "rowLimit": 10000
     },
     "inputWidgets": {},
     "nuid": "851ec307-bd0d-4137-ac2d-37ed3c847d40",
     "showTitle": false,
     "tableResultSettingsMap": {},
     "title": ""
    }
   },
   "source": [
    "##**Q2 b) What was the average, median, minimum and maximum trip distance in km?**"
   ]
  },
  {
   "cell_type": "markdown",
   "metadata": {
    "application/vnd.databricks.v1+cell": {
     "cellMetadata": {
      "byteLimit": 2048000,
      "rowLimit": 10000
     },
     "inputWidgets": {},
     "nuid": "1c0a0396-b19d-4dd1-acb9-32e1936ae2ed",
     "showTitle": false,
     "tableResultSettingsMap": {},
     "title": ""
    }
   },
   "source": [
    "###**Q2 c) What was the average, median, minimum and maximum speed in km per hour 10?**"
   ]
  },
  {
   "cell_type": "code",
   "execution_count": 0,
   "metadata": {
    "application/vnd.databricks.v1+cell": {
     "cellMetadata": {
      "byteLimit": 2048000,
      "implicitDf": true,
      "rowLimit": 10000
     },
     "inputWidgets": {},
     "nuid": "4acf49b7-02ab-404a-9383-acae9ba13c34",
     "showTitle": false,
     "tableResultSettingsMap": {},
     "title": ""
    }
   },
   "outputs": [],
   "source": [
    "%sql\n",
    "SELECT \n",
    "    taxi_color,\n",
    "\n",
    "    \n",
    "    ROUND(AVG(duration_sec / 60.0), 2) AS avg_duration_min,\n",
    "    ROUND(PERCENTILE_CONT(0.5) WITHIN GROUP (ORDER BY duration_sec / 60.0), 2) AS median_duration_min,\n",
    "    ROUND(MIN(duration_sec / 60.0), 2) AS min_duration_min,\n",
    "    ROUND(MAX(duration_sec / 60.0), 2) AS max_duration_min,\n",
    "\n",
    "    ROUND(AVG(trip_distance), 2) AS avg_distance_km,\n",
    "    ROUND(PERCENTILE_CONT(0.5) WITHIN GROUP (ORDER BY trip_distance), 2) AS median_distance_km,\n",
    "    ROUND(MIN(trip_distance), 2) AS min_distance_km,\n",
    "    ROUND(MAX(trip_distance), 2) AS max_distance_km,\n",
    "\n",
    "    ROUND(AVG(speed_kph), 2) AS avg_speed_kph,\n",
    "    ROUND(PERCENTILE_CONT(0.5) WITHIN GROUP (ORDER BY speed_kph), 2) AS median_speed_kph,\n",
    "    ROUND(MIN(speed_kph), 2) AS min_speed_kph,\n",
    "    ROUND(MAX(speed_kph), 2) AS max_speed_kph\n",
    "\n",
    "FROM taxi_trips\n",
    "WHERE duration_sec IS NOT NULL\n",
    "  AND trip_distance IS NOT NULL\n",
    "  AND speed_kph IS NOT NULL\n",
    "GROUP BY taxi_color\n",
    "ORDER BY taxi_color;\n"
   ]
  },
  {
   "cell_type": "markdown",
   "metadata": {
    "application/vnd.databricks.v1+cell": {
     "cellMetadata": {
      "byteLimit": 2048000,
      "rowLimit": 10000
     },
     "inputWidgets": {},
     "nuid": "92709151-69e1-43d3-a79d-cbf2f43e4b31",
     "showTitle": false,
     "tableResultSettingsMap": {},
     "title": ""
    }
   },
   "source": [
    "**green taxi trips averaged 13.8 minutes and 3.05 km, while yellow taxis averaged 14.4 minutes and 3.06 km, showing very similar ride characteristics. Median values were slightly lower (around 11 minutes and 1.7–2.0 km), reflecting the predominance of short urban trips. Minimums (0.5 minutes, 0.1 km) capture near-zero trips, while maximums (200 minutes, ~100 km) reflect occasional outliers or airport rides. In terms of speed, green taxis averaged 12.8 km/h and yellow taxis 11.8 km/h, with medians of 11.6 and 10.3 km/h respectively, consistent with New York’s congested traffic. These findings confirm that most trips are short, low-speed urban journeys, with only a small share of long-haul rides.**"
   ]
  },
  {
   "cell_type": "markdown",
   "metadata": {
    "application/vnd.databricks.v1+cell": {
     "cellMetadata": {
      "byteLimit": 2048000,
      "rowLimit": 10000
     },
     "inputWidgets": {},
     "nuid": "b778fce3-b562-440c-bcc6-d77a3e63ff86",
     "showTitle": false,
     "tableResultSettingsMap": {},
     "title": ""
    }
   },
   "source": [
    "#**Part 3**"
   ]
  },
  {
   "cell_type": "code",
   "execution_count": 0,
   "metadata": {
    "application/vnd.databricks.v1+cell": {
     "cellMetadata": {
      "byteLimit": 2048000,
      "implicitDf": true,
      "rowLimit": 10000
     },
     "inputWidgets": {},
     "nuid": "8c8267b4-69ff-45bf-9ad7-347f017c799e",
     "showTitle": false,
     "tableResultSettingsMap": {},
     "title": ""
    }
   },
   "outputs": [],
   "source": [
    "%sql\n",
    "CREATE OR REPLACE TEMP VIEW q3_base AS\n",
    "SELECT\n",
    "  taxi_color,\n",
    "  pickup_borough,\n",
    "  dropoff_borough,\n",
    "  pickup_datetime,\n",
    "  trip_distance,\n",
    "  total_amount\n",
    "FROM taxi_trips\n",
    "WHERE pickup_borough IS NOT NULL\n",
    "  AND dropoff_borough IS NOT NULL\n",
    "  AND YEAR(pickup_datetime) BETWEEN 2009 AND 2024;\n"
   ]
  },
  {
   "cell_type": "markdown",
   "metadata": {
    "application/vnd.databricks.v1+cell": {
     "cellMetadata": {
      "byteLimit": 2048000,
      "rowLimit": 10000
     },
     "inputWidgets": {},
     "nuid": "a10c66bb-2bf3-4b26-b5c5-b2de33d254c8",
     "showTitle": false,
     "tableResultSettingsMap": {},
     "title": ""
    }
   },
   "source": [
    "###**Q3 a) Total number of trips**"
   ]
  },
  {
   "cell_type": "code",
   "execution_count": 0,
   "metadata": {
    "application/vnd.databricks.v1+cell": {
     "cellMetadata": {
      "byteLimit": 2048000,
      "implicitDf": true,
      "rowLimit": 10000
     },
     "inputWidgets": {},
     "nuid": "5b1b534d-11a7-447a-a574-25057c2a1587",
     "showTitle": false,
     "tableResultSettingsMap": {},
     "title": ""
    }
   },
   "outputs": [],
   "source": [
    "%sql\n",
    "SELECT\n",
    "  taxi_color,\n",
    "  pickup_borough,\n",
    "  dropoff_borough,\n",
    "  YEAR(pickup_datetime)  AS year,\n",
    "  MONTH(pickup_datetime) AS month,\n",
    "  DAYOFWEEK(pickup_datetime) AS day_of_week,   \n",
    "  HOUR(pickup_datetime)  AS hour_of_day,\n",
    "  COUNT(*) AS total_trips\n",
    "FROM q3_base\n",
    "GROUP BY\n",
    "  taxi_color, pickup_borough, dropoff_borough,\n",
    "  YEAR(pickup_datetime), MONTH(pickup_datetime),\n",
    "  DAYOFWEEK(pickup_datetime), HOUR(pickup_datetime)\n",
    "ORDER BY year, month, day_of_week, hour_of_day, total_trips DESC;\n"
   ]
  },
  {
   "cell_type": "markdown",
   "metadata": {
    "application/vnd.databricks.v1+cell": {
     "cellMetadata": {
      "byteLimit": 2048000,
      "rowLimit": 10000
     },
     "inputWidgets": {},
     "nuid": "84c8298b-1fa3-4296-b1a6-2e5e0e1bf469",
     "showTitle": false,
     "tableResultSettingsMap": {},
     "title": ""
    }
   },
   "source": [
    "###**Data cleaning of single digit trips of months**\n",
    "\n",
    "We excluded single-digit trip counts from early 2009 because they reflect incomplete or invalid records: green taxis did not exist before 2013 (so any green rows are errors), yellow taxi data in early 2009 was patchy as TLC only began publishing complete records that year, and missing location IDs often produced “Unknown” boroughs. These anomalies represent data quality issues rather than real traffic, so filtering them ensures the dataset remains valid and representative while keeping removals under the 10% threshold."
   ]
  },
  {
   "cell_type": "code",
   "execution_count": 0,
   "metadata": {
    "application/vnd.databricks.v1+cell": {
     "cellMetadata": {
      "byteLimit": 2048000,
      "implicitDf": true,
      "rowLimit": 10000
     },
     "inputWidgets": {},
     "nuid": "5b337285-ffe6-40bb-89bb-0458a5ec52a6",
     "showTitle": false,
     "tableResultSettingsMap": {},
     "title": ""
    }
   },
   "outputs": [],
   "source": [
    "%sql\n",
    "CREATE OR REPLACE TEMP VIEW taxi_trips_clean AS\n",
    "SELECT *\n",
    "FROM taxi_trips\n",
    "WHERE \n",
    "    YEAR(pickup_datetime) BETWEEN 2010 AND 2024\n",
    "    \n",
    "    AND NOT (taxi_color = 'yellow' AND YEAR(pickup_datetime) < 2010)\n",
    "    \n",
    "    AND NOT (taxi_color = 'green' AND YEAR(pickup_datetime) < 2013)\n",
    "    \n",
    "    AND pickup_borough IS NOT NULL\n",
    "    AND dropoff_borough IS NOT NULL;\n"
   ]
  },
  {
   "cell_type": "markdown",
   "metadata": {
    "application/vnd.databricks.v1+cell": {
     "cellMetadata": {
      "byteLimit": 2048000,
      "rowLimit": 10000
     },
     "inputWidgets": {},
     "nuid": "717906d8-a0ca-438d-baf2-3cb0634086d7",
     "showTitle": false,
     "tableResultSettingsMap": {},
     "title": ""
    }
   },
   "source": [
    "###**Q3 b) Average distance (km)**"
   ]
  },
  {
   "cell_type": "code",
   "execution_count": 0,
   "metadata": {
    "application/vnd.databricks.v1+cell": {
     "cellMetadata": {
      "byteLimit": 2048000,
      "implicitDf": true,
      "rowLimit": 10000
     },
     "inputWidgets": {},
     "nuid": "6a62dfad-cf7f-4518-93a6-3cc3e8eb0e10",
     "showTitle": false,
     "tableResultSettingsMap": {},
     "title": ""
    }
   },
   "outputs": [],
   "source": [
    "%sql\n",
    "SELECT\n",
    "  taxi_color,\n",
    "  pickup_borough,\n",
    "  dropoff_borough,\n",
    "  YEAR(pickup_datetime)  AS year,\n",
    "  MONTH(pickup_datetime) AS month,\n",
    "  DAYOFWEEK(pickup_datetime) AS day_of_week,\n",
    "  HOUR(pickup_datetime)  AS hour_of_day,\n",
    "  ROUND(AVG(trip_distance), 2) AS avg_distance_km\n",
    "FROM taxi_trips_cleaned\n",
    "GROUP BY\n",
    "  taxi_color, pickup_borough, dropoff_borough,\n",
    "  YEAR(pickup_datetime), MONTH(pickup_datetime),\n",
    "  DAYOFWEEK(pickup_datetime), HOUR(pickup_datetime)\n",
    "ORDER BY year, month, day_of_week, hour_of_day;\n"
   ]
  },
  {
   "cell_type": "markdown",
   "metadata": {
    "application/vnd.databricks.v1+cell": {
     "cellMetadata": {
      "byteLimit": 2048000,
      "rowLimit": 10000
     },
     "inputWidgets": {},
     "nuid": "2598ffe1-e746-4ac4-83fd-a63dfeab7e55",
     "showTitle": false,
     "tableResultSettingsMap": {},
     "title": ""
    }
   },
   "source": [
    "##**Q3c) Average amount paid per trip (using total_amount)**"
   ]
  },
  {
   "cell_type": "code",
   "execution_count": 0,
   "metadata": {
    "application/vnd.databricks.v1+cell": {
     "cellMetadata": {
      "byteLimit": 2048000,
      "implicitDf": true,
      "rowLimit": 10000
     },
     "inputWidgets": {},
     "nuid": "ca7f9493-44a0-45bb-ba58-7cbcaa3a7bd9",
     "showTitle": false,
     "tableResultSettingsMap": {},
     "title": ""
    }
   },
   "outputs": [],
   "source": [
    "%sql\n",
    "SELECT\n",
    "  taxi_color,\n",
    "  pickup_borough,\n",
    "  dropoff_borough,\n",
    "  YEAR(pickup_datetime)  AS year,\n",
    "  MONTH(pickup_datetime) AS month,\n",
    "  DAYOFWEEK(pickup_datetime) AS day_of_week,\n",
    "  HOUR(pickup_datetime)  AS hour_of_day,\n",
    "  ROUND(AVG(total_amount), 2) AS avg_amount_per_trip\n",
    "FROM taxi_trips_cleaned\n",
    "GROUP BY\n",
    "  taxi_color, pickup_borough, dropoff_borough,\n",
    "  YEAR(pickup_datetime), MONTH(pickup_datetime),\n",
    "  DAYOFWEEK(pickup_datetime), HOUR(pickup_datetime)\n",
    "ORDER BY year, month, day_of_week, hour_of_day;\n"
   ]
  },
  {
   "cell_type": "markdown",
   "metadata": {
    "application/vnd.databricks.v1+cell": {
     "cellMetadata": {
      "byteLimit": 2048000,
      "rowLimit": 10000
     },
     "inputWidgets": {},
     "nuid": "5103944d-df9f-43a3-a692-87c1d908d52f",
     "showTitle": false,
     "tableResultSettingsMap": {},
     "title": ""
    }
   },
   "source": [
    "##**Q3d) Total amount paid (sum of total_amount)**"
   ]
  },
  {
   "cell_type": "code",
   "execution_count": 0,
   "metadata": {
    "application/vnd.databricks.v1+cell": {
     "cellMetadata": {
      "byteLimit": 2048000,
      "implicitDf": true,
      "rowLimit": 10000
     },
     "inputWidgets": {},
     "nuid": "c0412021-b8b7-40e3-8e0d-da14701ac035",
     "showTitle": false,
     "tableResultSettingsMap": {},
     "title": ""
    }
   },
   "outputs": [],
   "source": [
    "%sql\n",
    "SELECT\n",
    "  taxi_color,\n",
    "  pickup_borough,\n",
    "  dropoff_borough,\n",
    "  YEAR(pickup_datetime)  AS year,\n",
    "  MONTH(pickup_datetime) AS month,\n",
    "  DAYOFWEEK(pickup_datetime) AS day_of_week,\n",
    "  HOUR(pickup_datetime)  AS hour_of_day,\n",
    "  ROUND(SUM(total_amount), 2) AS total_amount_paid\n",
    "FROM taxi_trips_cleaned\n",
    "GROUP BY\n",
    "  taxi_color, pickup_borough, dropoff_borough,\n",
    "  YEAR(pickup_datetime), MONTH(pickup_datetime),\n",
    "  DAYOFWEEK(pickup_datetime), HOUR(pickup_datetime)\n",
    "ORDER BY year, month, day_of_week, hour_of_day;\n"
   ]
  },
  {
   "cell_type": "markdown",
   "metadata": {
    "application/vnd.databricks.v1+cell": {
     "cellMetadata": {
      "byteLimit": 2048000,
      "rowLimit": 10000
     },
     "inputWidgets": {},
     "nuid": "2a7cab8e-c59f-4e0b-b8b5-f87644329e8c",
     "showTitle": false,
     "tableResultSettingsMap": {},
     "title": ""
    }
   },
   "source": [
    "###**Question 3 in single data frame**"
   ]
  },
  {
   "cell_type": "code",
   "execution_count": 0,
   "metadata": {
    "application/vnd.databricks.v1+cell": {
     "cellMetadata": {
      "byteLimit": 2048000,
      "implicitDf": true,
      "rowLimit": 10000
     },
     "inputWidgets": {},
     "nuid": "7158e5a7-d511-4e1b-ba2f-e26290598c95",
     "showTitle": false,
     "tableResultSettingsMap": {},
     "title": ""
    }
   },
   "outputs": [],
   "source": [
    "%sql\n",
    "SELECT\n",
    "  taxi_color,\n",
    "  pickup_borough,\n",
    "  dropoff_borough,\n",
    "  YEAR(pickup_datetime)  AS year,\n",
    "  MONTH(pickup_datetime) AS month,\n",
    "  DAYOFWEEK(pickup_datetime) AS day_of_week,  \n",
    "  HOUR(pickup_datetime)  AS hour_of_day,\n",
    "\n",
    "  COUNT(*)                         AS total_trips,          \n",
    "  ROUND(AVG(trip_distance), 2)     AS avg_distance_km,      \n",
    "  ROUND(AVG(total_amount), 2)      AS avg_amount_per_trip,  \n",
    "  ROUND(SUM(total_amount), 2)      AS total_amount_paid     \n",
    "\n",
    "FROM taxi_trips_cleaned\n",
    "GROUP BY\n",
    "  taxi_color, pickup_borough, dropoff_borough,\n",
    "  YEAR(pickup_datetime), MONTH(pickup_datetime),\n",
    "  DAYOFWEEK(pickup_datetime), HOUR(pickup_datetime)\n",
    "ORDER BY year, month, day_of_week, hour_of_day, total_trips DESC;\n"
   ]
  },
  {
   "cell_type": "markdown",
   "metadata": {
    "application/vnd.databricks.v1+cell": {
     "cellMetadata": {
      "byteLimit": 2048000,
      "rowLimit": 10000
     },
     "inputWidgets": {},
     "nuid": "effee3b2-df68-48c7-a698-f9ff991cf9da",
     "showTitle": false,
     "tableResultSettingsMap": {},
     "title": ""
    }
   },
   "source": [
    "**From 2009 to 2024, the average passenger count per trip remained remarkably stable, fluctuating only slightly between 1.57 and 1.65 passengers. The overall mean stayed close to 1.6 passengers per trip, confirming that most rides are taken by individual passengers, with occasional shared rides. This consistency suggests little impact from carpooling or ride-sharing policies, highlighting that the taxi system is overwhelmingly used for solo or small-party trips.**"
   ]
  },
  {
   "cell_type": "markdown",
   "metadata": {
    "application/vnd.databricks.v1+cell": {
     "cellMetadata": {
      "byteLimit": 2048000,
      "rowLimit": 10000
     },
     "inputWidgets": {},
     "nuid": "55665356-479b-4cdc-8b6b-5e5cd21811b9",
     "showTitle": false,
     "tableResultSettingsMap": {},
     "title": ""
    }
   },
   "source": [
    "##**Question 4) compute the total revenue  by the Top 10 pickup→dropoff borough pairs (ranked by total_amount).**"
   ]
  },
  {
   "cell_type": "code",
   "execution_count": 0,
   "metadata": {
    "application/vnd.databricks.v1+cell": {
     "cellMetadata": {
      "byteLimit": 2048000,
      "implicitDf": true,
      "rowLimit": 10000
     },
     "inputWidgets": {},
     "nuid": "52240146-d318-49f7-ae98-51ca20634879",
     "showTitle": false,
     "tableResultSettingsMap": {},
     "title": ""
    }
   },
   "outputs": [],
   "source": [
    "%sql\n",
    "WITH revenue_by_pair AS (\n",
    "    SELECT\n",
    "        pickup_borough,\n",
    "        dropoff_borough,\n",
    "        ROUND(SUM(total_amount), 2) AS total_revenue\n",
    "    FROM taxi_trips_cleaned\n",
    "    WHERE YEAR(pickup_datetime) = 2024\n",
    "    GROUP BY pickup_borough, dropoff_borough\n",
    "),\n",
    "ranked_pairs AS (\n",
    "    SELECT\n",
    "        pickup_borough,\n",
    "        dropoff_borough,\n",
    "        total_revenue,\n",
    "        RANK() OVER (ORDER BY total_revenue DESC) AS rank\n",
    "    FROM revenue_by_pair\n",
    "),\n",
    "total_2024 AS (\n",
    "    SELECT SUM(total_revenue) AS overall_revenue\n",
    "    FROM revenue_by_pair\n",
    ")\n",
    "SELECT\n",
    "    r.rank,\n",
    "    r.pickup_borough,\n",
    "    r.dropoff_borough,\n",
    "    r.total_revenue,\n",
    "    ROUND((r.total_revenue / t.overall_revenue) * 100, 2) AS revenue_share_percentage\n",
    "FROM ranked_pairs r\n",
    "CROSS JOIN total_2024 t\n",
    "WHERE r.rank <= 10\n",
    "ORDER BY r.rank;\n"
   ]
  },
  {
   "cell_type": "markdown",
   "metadata": {
    "application/vnd.databricks.v1+cell": {
     "cellMetadata": {
      "byteLimit": 2048000,
      "rowLimit": 10000
     },
     "inputWidgets": {},
     "nuid": "3c57a793-7904-485f-b69f-94d148f01d58",
     "showTitle": false,
     "tableResultSettingsMap": {},
     "title": ""
    }
   },
   "source": [
    "**In 2024, revenue was highly concentrated among a few borough-to-borough routes. Manhattan → Manhattan trips dominated with $708.6M (62.6% of total revenue), followed by Queens → Manhattan ($171.7M, 15.2%) and Manhattan → Queens ($73.8M, 6.5%). Other notable flows included Queens → Brooklyn (3.4%), Manhattan → Brooklyn (2.9%), and Queens → Queens (2.8%). The remaining top pairs, such as Queens → Unknown, Manhattan → Newark Airport (EWR), and Brooklyn trips, each contributed around 1% or less. Altogether, the top 10 borough pairs accounted for 97.2% of total taxi revenue in 2024, underscoring the dominance of Manhattan-centric and airport-related trips in the industry.**"
   ]
  },
  {
   "cell_type": "markdown",
   "metadata": {
    "application/vnd.databricks.v1+cell": {
     "cellMetadata": {
      "byteLimit": 2048000,
      "rowLimit": 10000
     },
     "inputWidgets": {},
     "nuid": "d4512a3a-c95e-434c-a5ee-bbbc8f74c269",
     "showTitle": false,
     "tableResultSettingsMap": {},
     "title": ""
    }
   },
   "source": [
    "###**Q5) What was the percentage of trips where drivers received tips?**"
   ]
  },
  {
   "cell_type": "code",
   "execution_count": 0,
   "metadata": {
    "application/vnd.databricks.v1+cell": {
     "cellMetadata": {
      "byteLimit": 2048000,
      "implicitDf": true,
      "rowLimit": 10000
     },
     "inputWidgets": {},
     "nuid": "5cfa374e-19cc-43ec-829c-1a7a6724b143",
     "showTitle": false,
     "tableResultSettingsMap": {},
     "title": ""
    }
   },
   "outputs": [],
   "source": [
    "%sql\n",
    "WITH stats AS (\n",
    "    SELECT\n",
    "        COUNT(*) AS total_trips,\n",
    "        SUM(CASE WHEN tip_amount > 0 THEN 1 ELSE 0 END) AS trips_with_tips\n",
    "    FROM taxi_trips_cleaned\n",
    ")\n",
    "SELECT\n",
    "    trips_with_tips,\n",
    "    total_trips,\n",
    "    ROUND((trips_with_tips * 100.0) / total_trips, 2) AS pct_with_tips\n",
    "FROM stats;\n"
   ]
  },
  {
   "cell_type": "markdown",
   "metadata": {
    "application/vnd.databricks.v1+cell": {
     "cellMetadata": {
      "byteLimit": 2048000,
      "rowLimit": 10000
     },
     "inputWidgets": {},
     "nuid": "aa925a23-8dba-4f59-9785-c53cf174e51b",
     "showTitle": false,
     "tableResultSettingsMap": {},
     "title": ""
    }
   },
   "source": [
    "**Out of 977.3 million total trips, about 613.9 million (62.8%) included a tip. This confirms that tipping is common practice in New York taxis, though more than one-third of trips still generated no gratuity, showing notable variation in passenger tipping behavior.**"
   ]
  },
  {
   "cell_type": "markdown",
   "metadata": {
    "application/vnd.databricks.v1+cell": {
     "cellMetadata": {
      "byteLimit": 2048000,
      "rowLimit": 10000
     },
     "inputWidgets": {},
     "nuid": "989ed71c-d23e-4d96-bd9f-6a6886b04ff3",
     "showTitle": false,
     "tableResultSettingsMap": {},
     "title": ""
    }
   },
   "source": [
    "###**Q6) For trips where the driver received tips, what was the percentage where the driver received tips of at least $15**"
   ]
  },
  {
   "cell_type": "code",
   "execution_count": 0,
   "metadata": {
    "application/vnd.databricks.v1+cell": {
     "cellMetadata": {
      "byteLimit": 2048000,
      "implicitDf": true,
      "rowLimit": 10000
     },
     "inputWidgets": {},
     "nuid": "7fa942ce-11a7-4cbe-b50f-ad95c8535011",
     "showTitle": false,
     "tableResultSettingsMap": {},
     "title": ""
    }
   },
   "outputs": [],
   "source": [
    "%sql\n",
    "WITH stats AS (\n",
    "    SELECT\n",
    "        SUM(CASE WHEN tip_amount > 0 THEN 1 ELSE 0 END) AS trips_with_tips,\n",
    "        SUM(CASE WHEN tip_amount >= 15 THEN 1 ELSE 0 END) AS trips_with_tips_15\n",
    "    FROM taxi_trips_cleaned\n",
    ")\n",
    "SELECT\n",
    "    trips_with_tips,\n",
    "    trips_with_tips_15,\n",
    "    ROUND((trips_with_tips_15 * 100.0) / trips_with_tips, 2) AS pct_tips_over_15\n",
    "FROM stats;\n"
   ]
  },
  {
   "cell_type": "markdown",
   "metadata": {
    "application/vnd.databricks.v1+cell": {
     "cellMetadata": {
      "byteLimit": 2048000,
      "rowLimit": 10000
     },
     "inputWidgets": {},
     "nuid": "28518604-7e83-445f-b80e-e7a53582181b",
     "showTitle": false,
     "tableResultSettingsMap": {},
     "title": ""
    }
   },
   "source": [
    "**Out of 613.9 million trips with tips, only 5.1 million (0.83%) involved tips of $15 or higher. This shows that while tipping is common, large tips are extremely rare, making up less than 1% of all tipped trips. Most tips remain modest, reinforcing that high-value gratuities contribute little to overall driver income compared to the volume of smaller, more frequent tips.**"
   ]
  },
  {
   "cell_type": "markdown",
   "metadata": {
    "application/vnd.databricks.v1+cell": {
     "cellMetadata": {
      "byteLimit": 2048000,
      "rowLimit": 10000
     },
     "inputWidgets": {},
     "nuid": "6e1096d2-8255-4694-9fc9-4b72cc6b609b",
     "showTitle": false,
     "tableResultSettingsMap": {},
     "title": ""
    }
   },
   "source": [
    "##**Q7) Classify each trip into bins of durations:**\n",
    "a.Under 50 Mins \n",
    "b.From 50 mins to 100 mins\n",
    "c.From 10 mins to 200 mins\n",
    "d.From 200 mins to 300 mins\n",
    "e.From 300 mins to 600 mins\n",
    "f.At least 600 mins \n",
    "\n",
    "Then for each bins, calculate: \n",
    "Average speed (km per hour)\n",
    "Average distance per aud dollar(km per $)"
   ]
  },
  {
   "cell_type": "code",
   "execution_count": 0,
   "metadata": {
    "application/vnd.databricks.v1+cell": {
     "cellMetadata": {
      "byteLimit": 2048000,
      "implicitDf": true,
      "rowLimit": 10000
     },
     "inputWidgets": {},
     "nuid": "326de34d-96fc-4663-8725-26f7c9aa5ee8",
     "showTitle": false,
     "tableResultSettingsMap": {},
     "title": ""
    }
   },
   "outputs": [],
   "source": [
    "%sql\n",
    "WITH trip_bins AS (\n",
    "    SELECT\n",
    "        CASE\n",
    "            WHEN duration_sec < 300 THEN 'Under 5 mins'\n",
    "            WHEN duration_sec BETWEEN 300 AND 600 THEN '5–10 mins'\n",
    "            WHEN duration_sec BETWEEN 600 AND 1200 THEN '10–20 mins'\n",
    "            WHEN duration_sec BETWEEN 1200 AND 1800 THEN '20–30 mins'\n",
    "            WHEN duration_sec BETWEEN 1800 AND 3600 THEN '30–60 mins'\n",
    "            ELSE '60+ mins'\n",
    "        END AS duration_bin,\n",
    "        trip_distance,\n",
    "        total_amount,\n",
    "        speed_kph,\n",
    "        duration_sec\n",
    "    FROM taxi_trips_cleaned\n",
    "    WHERE duration_sec IS NOT NULL\n",
    "      AND trip_distance > 0\n",
    "      AND total_amount > 0\n",
    ")\n",
    "SELECT\n",
    "    duration_bin,\n",
    "    COUNT(*) AS total_trips,\n",
    "    ROUND(AVG(speed_kph), 2) AS avg_speed_kph,\n",
    "    ROUND(AVG(CASE WHEN total_amount >= 1 THEN trip_distance / total_amount END), 2) AS avg_distance_per_dollar,\n",
    "    ROUND(AVG(total_amount), 2) AS avg_fare_per_trip,\n",
    "    ROUND(AVG(total_amount / (duration_sec / 60.0)), 2) AS avg_fare_per_minute\n",
    "FROM trip_bins\n",
    "GROUP BY duration_bin\n",
    "ORDER BY \n",
    "    CASE duration_bin\n",
    "        WHEN 'Under 5 mins' THEN 1\n",
    "        WHEN '5–10 mins' THEN 2\n",
    "        WHEN '10–20 mins' THEN 3\n",
    "        WHEN '20–30 mins' THEN 4\n",
    "        WHEN '30–60 mins' THEN 5\n",
    "        ELSE 6\n",
    "    END;\n"
   ]
  },
  {
   "cell_type": "markdown",
   "metadata": {
    "application/vnd.databricks.v1+cell": {
     "cellMetadata": {
      "byteLimit": 2048000,
      "rowLimit": 10000
     },
     "inputWidgets": {},
     "nuid": "439971bd-9633-4ba7-84e7-4ae1f7d540ce",
     "showTitle": false,
     "tableResultSettingsMap": {},
     "title": ""
    }
   },
   "source": [
    "**The duration bin analysis shows that very short trips (<5 mins) yield the highest efficiency at $2.34 per minute but only about $7 per trip, making them unsustainable for consistent income. Longer trips (30+ mins) generate higher absolute fares of $47–$71 but at lower efficiency (≤$1.25 per minute) and with significantly less demand. Medium-duration trips between 10–30 minutes strike the best balance, offering average fares of $16–$28, stable efficiency around $1.15 per minute, and the highest overall demand, making them the most practical category for both drivers and passengers.**"
   ]
  },
  {
   "cell_type": "markdown",
   "metadata": {
    "application/vnd.databricks.v1+cell": {
     "cellMetadata": {
      "byteLimit": 2048000,
      "rowLimit": 10000
     },
     "inputWidgets": {},
     "nuid": "3239e894-d8aa-4d67-b5af-cf45e1521421",
     "showTitle": false,
     "tableResultSettingsMap": {},
     "title": ""
    }
   },
   "source": [
    "##**Q8) Which duration bin will you advise a taxi driver to target to maximise his income?**"
   ]
  },
  {
   "cell_type": "code",
   "execution_count": 0,
   "metadata": {
    "application/vnd.databricks.v1+cell": {
     "cellMetadata": {
      "byteLimit": 2048000,
      "implicitDf": true,
      "rowLimit": 10000
     },
     "inputWidgets": {},
     "nuid": "2ea5417f-c704-4360-9e6c-12bbede633b9",
     "showTitle": false,
     "tableResultSettingsMap": {},
     "title": ""
    }
   },
   "outputs": [],
   "source": [
    "%sql\n",
    "WITH trip_bins AS (\n",
    "    SELECT\n",
    "        CASE\n",
    "            WHEN duration_sec < 300 THEN 'Under 5 mins'\n",
    "            WHEN duration_sec BETWEEN 300 AND 600 THEN '5–10 mins'\n",
    "            WHEN duration_sec BETWEEN 600 AND 1200 THEN '10–20 mins'\n",
    "            WHEN duration_sec BETWEEN 1200 AND 1800 THEN '20–30 mins'\n",
    "            WHEN duration_sec BETWEEN 1800 AND 3600 THEN '30–60 mins'\n",
    "            ELSE '60+ mins'\n",
    "        END AS duration_bin,\n",
    "        trip_distance,\n",
    "        total_amount,\n",
    "        duration_sec\n",
    "    FROM taxi_trips_cleaned\n",
    "    WHERE duration_sec IS NOT NULL\n",
    "      AND trip_distance > 0\n",
    "      AND total_amount >= 1   \n",
    ")\n",
    "SELECT\n",
    "    duration_bin,\n",
    "    COUNT(*) AS total_trips,\n",
    "    ROUND(AVG(total_amount), 2) AS avg_fare_per_trip,\n",
    "    ROUND(AVG(total_amount / (duration_sec / 60.0)), 2) AS avg_fare_per_minute\n",
    "FROM trip_bins\n",
    "GROUP BY duration_bin\n",
    "ORDER BY \n",
    "    CASE duration_bin\n",
    "        WHEN 'Under 5 mins' THEN 1\n",
    "        WHEN '5–10 mins' THEN 2\n",
    "        WHEN '10–20 mins' THEN 3\n",
    "        WHEN '20–30 mins' THEN 4\n",
    "        WHEN '30–60 mins' THEN 5\n",
    "        ELSE 6\n",
    "    END;\n"
   ]
  },
  {
   "cell_type": "markdown",
   "metadata": {
    "application/vnd.databricks.v1+cell": {
     "cellMetadata": {
      "byteLimit": 2048000,
      "rowLimit": 10000
     },
     "inputWidgets": {},
     "nuid": "c1d0b313-dd43-4010-bcdc-99ab844b845a",
     "showTitle": false,
     "tableResultSettingsMap": {},
     "title": ""
    }
   },
   "source": [
    "##\n",
    "**While the highest earning efficiency appears in very short trips (<5 mins, $2.34/min), these trips only yield $7 on average and are not sustainable for maximizing daily income. Longer trips (>30 mins) provide higher totals but reduce turnover and have lower demand. The 10–20 mins bin strikes the best balance: with 342M trips, an average fare of $16.41, and sustainable efficiency ($1.16/min). Therefore, targeting 10–20 minute trips maximizes income potential for drivers.**"
   ]
  },
  {
   "cell_type": "code",
   "execution_count": 0,
   "metadata": {
    "application/vnd.databricks.v1+cell": {
     "cellMetadata": {
      "byteLimit": 2048000,
      "rowLimit": 10000
     },
     "inputWidgets": {},
     "nuid": "0fc026fa-6399-40e1-aba7-48a66723cddf",
     "showTitle": false,
     "tableResultSettingsMap": {},
     "title": ""
    }
   },
   "outputs": [],
   "source": [
    "taxi_trips_cleaned = spark.table(\"taxi_trips_cleaned\")"
   ]
  },
  {
   "cell_type": "markdown",
   "metadata": {
    "application/vnd.databricks.v1+cell": {
     "cellMetadata": {
      "byteLimit": 2048000,
      "rowLimit": 10000
     },
     "inputWidgets": {},
     "nuid": "a670fc5a-b4d8-4ad5-bdc4-4790d92a2893",
     "showTitle": false,
     "tableResultSettingsMap": {},
     "title": ""
    }
   },
   "source": [
    "#**Part 3. ML Implementation** "
   ]
  },
  {
   "cell_type": "code",
   "execution_count": 0,
   "metadata": {
    "application/vnd.databricks.v1+cell": {
     "cellMetadata": {
      "byteLimit": 2048000,
      "rowLimit": 10000
     },
     "inputWidgets": {},
     "nuid": "3e407807-0f52-4305-b2d9-ee2d6460a633",
     "showTitle": false,
     "tableResultSettingsMap": {},
     "title": ""
    }
   },
   "outputs": [],
   "source": [
    "import pandas as pd\n",
    "import numpy as np\n"
   ]
  },
  {
   "cell_type": "code",
   "execution_count": 0,
   "metadata": {
    "application/vnd.databricks.v1+cell": {
     "cellMetadata": {
      "byteLimit": 2048000,
      "rowLimit": 10000
     },
     "inputWidgets": {},
     "nuid": "0437f9ee-64eb-4bfe-a40e-30c08a5965f4",
     "showTitle": false,
     "tableResultSettingsMap": {},
     "title": ""
    }
   },
   "outputs": [],
   "source": [
    "pdf = taxi_trips_cleaned.sample(fraction=0.01, seed=42).toPandas()\n",
    "print(\"Shape of sampled data:\", pdf.shape)"
   ]
  },
  {
   "cell_type": "code",
   "execution_count": 0,
   "metadata": {
    "application/vnd.databricks.v1+cell": {
     "cellMetadata": {
      "byteLimit": 2048000,
      "rowLimit": 10000
     },
     "inputWidgets": {},
     "nuid": "a80c73dd-c700-4b2d-9b03-6c43f62664cc",
     "showTitle": false,
     "tableResultSettingsMap": {},
     "title": ""
    }
   },
   "outputs": [],
   "source": [
    "corr = pdf.corr(numeric_only=True)  \n",
    "corr_target = corr[\"total_amount\"].sort_values(ascending=False)\n",
    "\n",
    "print(corr_target)\n"
   ]
  },
  {
   "cell_type": "code",
   "execution_count": 0,
   "metadata": {
    "application/vnd.databricks.v1+cell": {
     "cellMetadata": {
      "byteLimit": 2048000,
      "rowLimit": 10000
     },
     "inputWidgets": {},
     "nuid": "772dfa58-0061-4f13-a56b-6c6e3fb19fb0",
     "showTitle": false,
     "tableResultSettingsMap": {},
     "title": ""
    }
   },
   "outputs": [],
   "source": [
    "pdf[\"pickup_datetime\"] = pd.to_datetime(pdf[\"pickup_datetime\"], errors=\"coerce\")\n",
    "pdf[\"pickup_year\"] = pdf[\"pickup_datetime\"].dt.year\n",
    "pdf[\"pickup_month\"] = pdf[\"pickup_datetime\"].dt.month\n",
    "pdf[\"pickup_day\"] = pdf[\"pickup_datetime\"].dt.day\n",
    "pdf[\"pickup_hour\"] = pdf[\"pickup_datetime\"].dt.hour"
   ]
  },
  {
   "cell_type": "code",
   "execution_count": 0,
   "metadata": {
    "application/vnd.databricks.v1+cell": {
     "cellMetadata": {
      "byteLimit": 2048000,
      "rowLimit": 10000
     },
     "inputWidgets": {},
     "nuid": "64356743-9e78-420f-aaba-175506e9c2db",
     "showTitle": false,
     "tableResultSettingsMap": {},
     "title": ""
    }
   },
   "outputs": [],
   "source": [
    "\n",
    "mask_test = (pdf[\"pickup_year\"] == 2024) & (pdf[\"pickup_month\"].isin([10, 11, 12]))\n",
    "\n",
    "train_data = pdf[~mask_test].copy()\n",
    "test_data  = pdf[mask_test].copy()\n",
    "\n",
    "print(\"Train size:\", train_data.shape, \"Test size:\", test_data.shape)\n"
   ]
  },
  {
   "cell_type": "code",
   "execution_count": 0,
   "metadata": {
    "application/vnd.databricks.v1+cell": {
     "cellMetadata": {
      "byteLimit": 2048000,
      "rowLimit": 10000
     },
     "inputWidgets": {},
     "nuid": "4a109395-0c2f-4cef-8bf3-0c7deaf47a08",
     "showTitle": false,
     "tableResultSettingsMap": {},
     "title": ""
    }
   },
   "outputs": [],
   "source": [
    "from sklearn.impute import SimpleImputer\n",
    "\n",
    "features = [\n",
    "    \"trip_distance\", \"duration_sec\", \"tip_amount\",\n",
    "    \"speed_kph\", \"airport_fee\", \"improvement_surcharge\"\n",
    "]\n",
    "\n",
    "\n",
    "train_data[\"fare_efficiency\"] = train_data[\"tip_amount\"] / (train_data[\"trip_distance\"] + 1e-5)\n",
    "train_data[\"duration_per_km\"] = train_data[\"duration_sec\"] / (train_data[\"trip_distance\"] + 1e-5)\n",
    "\n",
    "test_data[\"fare_efficiency\"] = test_data[\"tip_amount\"] / (test_data[\"trip_distance\"] + 1e-5)\n",
    "test_data[\"duration_per_km\"] = test_data[\"duration_sec\"] / (test_data[\"trip_distance\"] + 1e-5)\n",
    "\n",
    "features += [\"fare_efficiency\", \"duration_per_km\"]\n",
    "\n",
    "X_train = train_data[features]\n",
    "y_train = train_data[\"total_amount\"]\n",
    "\n",
    "X_test = test_data[features]\n",
    "y_test = test_data[\"total_amount\"]\n",
    "\n",
    "\n",
    "imputer = SimpleImputer(strategy=\"median\")\n",
    "X_train_imputed = imputer.fit_transform(X_train)\n",
    "X_test_imputed  = imputer.transform(X_test)\n",
    "\n",
    "y_imputer = SimpleImputer(strategy=\"median\")\n",
    "y_train = y_imputer.fit_transform(y_train.values.reshape(-1, 1)).ravel()\n",
    "y_test  = y_imputer.transform(y_test.values.reshape(-1, 1)).ravel()\n"
   ]
  },
  {
   "cell_type": "code",
   "execution_count": 0,
   "metadata": {
    "application/vnd.databricks.v1+cell": {
     "cellMetadata": {
      "byteLimit": 2048000,
      "rowLimit": 10000
     },
     "inputWidgets": {},
     "nuid": "3a4a8822-dc86-4967-9287-4770163ebcdc",
     "showTitle": false,
     "tableResultSettingsMap": {},
     "title": ""
    }
   },
   "outputs": [],
   "source": [
    "import pandas as pd\n",
    "import numpy as np\n",
    "from sklearn.model_selection import train_test_split\n",
    "from sklearn.impute import SimpleImputer\n",
    "from sklearn.linear_model import LinearRegression\n",
    "from sklearn.ensemble import RandomForestRegressor\n",
    "from sklearn.metrics import mean_squared_error\n",
    "\n",
    "\n",
    "pdf[\"pickup_datetime\"] = pd.to_datetime(pdf[\"pickup_datetime\"])\n",
    "\n",
    "\n",
    "pdf[\"pickup_year\"] = pdf[\"pickup_datetime\"].dt.year\n",
    "pdf[\"pickup_month\"] = pdf[\"pickup_datetime\"].dt.month\n",
    "pdf[\"pickup_dow\"] = pdf[\"pickup_datetime\"].dt.dayofweek\n",
    "pdf[\"pickup_hour\"] = pdf[\"pickup_datetime\"].dt.hour\n",
    "\n",
    "features = [\n",
    "    \"trip_distance\", \"duration_sec\", \"tip_amount\", \"speed_kph\",\n",
    "    \"airport_fee\", \"improvement_surcharge\", \"extra\",\n",
    "    \"pickup_month\", \"pickup_dow\", \"pickup_hour\",\n",
    "    \"PULocationID\", \"DOLocationID\"\n",
    "]\n",
    "\n",
    "pdf[\"fare_efficiency\"] = pdf[\"tip_amount\"] / (pdf[\"trip_distance\"].replace(0, np.nan))\n",
    "pdf[\"duration_per_km\"] = pdf[\"duration_sec\"] / (pdf[\"trip_distance\"].replace(0, np.nan))\n",
    "\n",
    "features.extend([\"fare_efficiency\", \"duration_per_km\"])\n",
    "\n",
    "X = pdf[features]\n",
    "y = pdf[\"total_amount\"]\n",
    "\n",
    "mask_test = (pdf[\"pickup_year\"] == 2024) & (pdf[\"pickup_month\"].isin([10, 11, 12]))\n",
    "X_train, X_test = X[~mask_test], X[mask_test]\n",
    "y_train, y_test = y[~mask_test], y[mask_test]\n",
    "\n",
    "print(\"Train size:\", X_train.shape, \" Test size:\", X_test.shape)\n",
    "\n",
    "imputer = SimpleImputer(strategy=\"median\")\n",
    "X_train_imputed = imputer.fit_transform(X_train)\n",
    "X_test_imputed  = imputer.transform(X_test)\n",
    "\n",
    "y_imputer = SimpleImputer(strategy=\"median\")\n",
    "y_train = y_imputer.fit_transform(y_train.values.reshape(-1, 1)).ravel()\n",
    "y_test  = y_imputer.transform(y_test.values.reshape(-1, 1)).ravel()\n",
    "\n",
    "y_pred_baseline = np.full_like(y_test, y_train.mean(), dtype=float)\n",
    "rmse_baseline = np.sqrt(mean_squared_error(y_test, y_pred_baseline))\n",
    "print(\"Baseline RMSE:\", rmse_baseline)\n",
    "\n",
    "lr = LinearRegression()\n",
    "lr.fit(X_train_imputed, y_train)\n",
    "y_pred_lr = lr.predict(X_test_imputed)\n",
    "rmse_lr = np.sqrt(mean_squared_error(y_test, y_pred_lr))\n",
    "print(\"Linear Regression RMSE:\", rmse_lr)\n",
    "\n",
    "rf = RandomForestRegressor(n_estimators=100, max_depth=12, random_state=42, n_jobs=-1)\n",
    "rf.fit(X_train_imputed, y_train)\n",
    "y_pred_rf = rf.predict(X_test_imputed)\n",
    "rmse_rf = np.sqrt(mean_squared_error(y_test, y_pred_rf))\n",
    "print(\"Random Forest RMSE:\", rmse_rf)\n",
    "\n",
    "results = {\n",
    "    \"Baseline\": rmse_baseline,\n",
    "    \"Linear Regression\": rmse_lr,\n",
    "    \"Random Forest\": rmse_rf\n",
    "}\n",
    "print(\"\\nRMSE Results:\", results)\n",
    "best_model = min(results, key=results.get)\n",
    "print(f\"\\nBest Model: {best_model} (lowest RMSE)\")\n"
   ]
  },
  {
   "cell_type": "code",
   "execution_count": 0,
   "metadata": {
    "application/vnd.databricks.v1+cell": {
     "cellMetadata": {
      "byteLimit": 2048000,
      "rowLimit": 10000
     },
     "inputWidgets": {},
     "nuid": "86cab436-32dd-415a-8747-6d8f8f6f6045",
     "showTitle": false,
     "tableResultSettingsMap": {},
     "title": ""
    }
   },
   "outputs": [],
   "source": [
    "mask_oct_dec = (pdf[\"pickup_year\"] == 2024) & (pdf[\"pickup_month\"].isin([10, 11, 12]))\n",
    "\n",
    "X_holdout = pdf.loc[mask_oct_dec, features]\n",
    "y_holdout = pdf.loc[mask_oct_dec, \"total_amount\"]\n",
    "\n",
    "X_holdout_imputed = imputer.transform(X_holdout)\n",
    "y_holdout = y_imputer.transform(y_holdout.values.reshape(-1, 1)).ravel()\n",
    "\n",
    "y_pred_holdout = rf.predict(X_holdout_imputed)\n",
    "rmse_holdout = np.sqrt(mean_squared_error(y_holdout, y_pred_holdout))\n",
    "\n",
    "print(\"Final Holdout RMSE on Oct–Dec 2024:\", rmse_holdout)\n"
   ]
  },
  {
   "cell_type": "markdown",
   "metadata": {
    "application/vnd.databricks.v1+cell": {
     "cellMetadata": {
      "byteLimit": 2048000,
      "rowLimit": 10000
     },
     "inputWidgets": {},
     "nuid": "b138218d-4b65-4e1c-a4f1-c652842d9a30",
     "showTitle": false,
     "tableResultSettingsMap": {},
     "title": ""
    }
   },
   "source": [
    "###\n",
    "The baseline model, which predicted the mean fare for every trip, produced a high RMSE of 25.9, showing it is ineffective for capturing the variability in taxi fares. Linear Regression improved performance significantly, reducing RMSE to 10.0, but it still struggled to capture nonlinear relationships in the data. The Random Forest model delivered the best results with an RMSE of 4.6, representing a ~82% reduction in error compared to the baseline. This demonstrates that ensemble tree-based models are far more effective for predicting taxi fares, as they capture complex interactions between distance, duration, and other trip features."
   ]
  },
  {
   "cell_type": "markdown",
   "metadata": {
    "application/vnd.databricks.v1+cell": {
     "cellMetadata": {
      "byteLimit": 2048000,
      "rowLimit": 10000
     },
     "inputWidgets": {},
     "nuid": "bd0f17f8-f6d0-4fbf-bace-43baeed2219d",
     "showTitle": false,
     "tableResultSettingsMap": {},
     "title": ""
    }
   },
   "source": [
    "##Q1 – Data Cleaning\n",
    "\n",
    "We implemented strict but reasonable filters on duration, distance, speed, passenger counts, and fare logic. The final dataset retained ~98.7% of trips, well within the 10% removal limit. This ensures data reliability without excessive loss, while eliminating corrupted future dates, unrealistic speeds (>120 km/h), and zero/negative fares."
   ]
  },
  {
   "cell_type": "markdown",
   "metadata": {
    "application/vnd.databricks.v1+cell": {
     "cellMetadata": {
      "byteLimit": 2048000,
      "rowLimit": 10000
     },
     "inputWidgets": {},
     "nuid": "1b8a109b-8411-47de-a43b-2c293dfb051d",
     "showTitle": false,
     "tableResultSettingsMap": {},
     "title": ""
    }
   },
   "source": [
    "##Q2 – Trip Characteristics\n",
    "\n",
    "Analysis of average trip duration, distance, and speed by taxi color showed that green and yellow taxis are broadly similar, with average trip speeds around 12 km/h and median distances around 2 km. This confirms consistency in operating conditions across both fleets."
   ]
  },
  {
   "cell_type": "code",
   "execution_count": 0,
   "metadata": {
    "application/vnd.databricks.v1+cell": {
     "cellMetadata": {
      "byteLimit": 2048000,
      "rowLimit": 10000
     },
     "inputWidgets": {},
     "nuid": "b3cd48f3-3300-4ac5-8632-2bd547f2ade9",
     "showTitle": false,
     "tableResultSettingsMap": {},
     "title": ""
    }
   },
   "outputs": [],
   "source": [
    "import matplotlib.pyplot as plt\n",
    "import pandas as pd\n",
    "import numpy as np\n",
    "\n",
    "pdf = taxi_trips_cleaned.sample(fraction=0.01, seed=42).toPandas()\n",
    "# Average distance, duration, speed by taxi_color\n",
    "q2_summary = pdf.groupby(\"taxi_color\").agg({\n",
    "    \"trip_distance\": \"mean\",\n",
    "    \"duration_sec\": lambda x: (x/60).mean(),\n",
    "    \"speed_kph\": \"mean\"\n",
    "}).reset_index()\n",
    "\n",
    "q2_summary.rename(columns={\"duration_sec\": \"avg_duration_min\"}, inplace=True)\n",
    "\n",
    "fig, ax = plt.subplots(1, 3, figsize=(15, 5))\n",
    "\n",
    "# Distance\n",
    "ax[0].bar(q2_summary[\"taxi_color\"], q2_summary[\"trip_distance\"], color=[\"green\", \"yellow\"])\n",
    "ax[0].set_title(\"Avg Distance (km)\")\n",
    "ax[0].set_ylabel(\"km\")\n",
    "\n",
    "# Duration\n",
    "ax[1].bar(q2_summary[\"taxi_color\"], q2_summary[\"avg_duration_min\"], color=[\"green\", \"yellow\"])\n",
    "ax[1].set_title(\"Avg Duration (min)\")\n",
    "\n",
    "# Speed\n",
    "ax[2].bar(q2_summary[\"taxi_color\"], q2_summary[\"speed_kph\"], color=[\"green\", \"yellow\"])\n",
    "ax[2].set_title(\"Avg Speed (kph)\")\n",
    "\n",
    "plt.suptitle(\"Trip Characteristics by Taxi Color\", fontsize=14)\n",
    "plt.show()\n"
   ]
  },
  {
   "cell_type": "markdown",
   "metadata": {
    "application/vnd.databricks.v1+cell": {
     "cellMetadata": {
      "byteLimit": 2048000,
      "rowLimit": 10000
     },
     "inputWidgets": {},
     "nuid": "7a736dc1-f952-471c-aefc-cbb5e4b791a8",
     "showTitle": false,
     "tableResultSettingsMap": {},
     "title": ""
    }
   },
   "source": [
    "##Q3 – Trip Distributions\n",
    "\n",
    "Trip distributions reveal strong urban mobility patterns: the majority of rides are short (median ~11 minutes, ~2 km). This reflects NYC’s dense geography and high reliance on taxis for short intra-borough trips. Outlier trips (up to 200 minutes / ~100 km) exist but are rare and handled in cleaning."
   ]
  },
  {
   "cell_type": "markdown",
   "metadata": {
    "application/vnd.databricks.v1+cell": {
     "cellMetadata": {
      "byteLimit": 2048000,
      "rowLimit": 10000
     },
     "inputWidgets": {},
     "nuid": "6669266c-8756-426d-a029-f0e1662d2ccc",
     "showTitle": false,
     "tableResultSettingsMap": {},
     "title": ""
    }
   },
   "source": [
    "##Q4 – Revenue by Borough Flows\n",
    "\n",
    "Revenue is highly concentrated in Manhattan, with Manhattan→Manhattan trips contributing 62% of total revenue, followed by Queens→Manhattan (15%) and Manhattan→Queens (6.5%). The top 10 borough flows account for >97% of total revenue, confirming Manhattan’s dominance in the taxi economy."
   ]
  },
  {
   "cell_type": "code",
   "execution_count": 0,
   "metadata": {
    "application/vnd.databricks.v1+cell": {
     "cellMetadata": {
      "byteLimit": 2048000,
      "rowLimit": 10000
     },
     "inputWidgets": {},
     "nuid": "efc8abb8-51b7-4dae-9a75-43f7f845fcff",
     "showTitle": false,
     "tableResultSettingsMap": {},
     "title": ""
    }
   },
   "outputs": [],
   "source": [
    "from pyspark.sql import functions as F\n",
    "import matplotlib.pyplot as plt\n",
    "import seaborn as sns\n",
    "\n",
    "q4_summary = (\n",
    "    taxi_trips_cleaned\n",
    "    .groupBy(\"pickup_borough\", \"dropoff_borough\")\n",
    "    .agg(F.round(F.sum(\"total_amount\"), 2).alias(\"total_revenue\"))\n",
    ")\n",
    "\n",
    "total_revenue = q4_summary.agg(F.sum(\"total_revenue\")).collect()[0][0]\n",
    "\n",
    "q4_summary = (\n",
    "    q4_summary.withColumn(\n",
    "        \"revenue_share_percentage\",\n",
    "        (F.col(\"total_revenue\") / F.lit(total_revenue)) * 100\n",
    "    )\n",
    "    .orderBy(F.desc(\"total_revenue\"))\n",
    ")\n",
    "\n",
    "q4_summary.show(10, truncate=False)  \n",
    "\n",
    "\n",
    "top10_flows = q4_summary.limit(10).toPandas()\n",
    "\n",
    "plt.figure(figsize=(12, 6))\n",
    "sns.barplot(\n",
    "    data=top10_flows,\n",
    "    x=\"total_revenue\",\n",
    "    y=top10_flows[\"pickup_borough\"] + \" → \" + top10_flows[\"dropoff_borough\"],\n",
    "    palette=\"viridis\"\n",
    ")\n",
    "\n",
    "for i, (val, pct) in enumerate(zip(top10_flows[\"total_revenue\"], top10_flows[\"revenue_share_percentage\"])):\n",
    "    plt.text(val, i, f\"{pct:.2f}%\", va=\"center\", ha=\"left\", fontsize=10)\n",
    "\n",
    "plt.title(\"Top 10 Borough-to-Borough Flows by Revenue\", fontsize=14)\n",
    "plt.xlabel(\"Total Revenue ($)\")\n",
    "plt.ylabel(\"Borough Flow\")\n",
    "plt.tight_layout()\n",
    "plt.show()\n"
   ]
  },
  {
   "cell_type": "markdown",
   "metadata": {
    "application/vnd.databricks.v1+cell": {
     "cellMetadata": {
      "byteLimit": 2048000,
      "rowLimit": 10000
     },
     "inputWidgets": {},
     "nuid": "093c83ec-0dde-439f-886a-f1d4907e38d4",
     "showTitle": false,
     "tableResultSettingsMap": {},
     "title": ""
    }
   },
   "source": [
    "###Q5 – Trips with Tips\n",
    "\n",
    "About 62.8% of trips include tips, indicating strong tipping culture in NYC taxis. This highlights that nearly two-thirds of passengers add gratuity, which significantly contributes to driver earnings."
   ]
  },
  {
   "cell_type": "markdown",
   "metadata": {
    "application/vnd.databricks.v1+cell": {
     "cellMetadata": {
      "byteLimit": 2048000,
      "rowLimit": 10000
     },
     "inputWidgets": {},
     "nuid": "bf0f1e2a-2ce3-4388-9046-9d355a084a0e",
     "showTitle": false,
     "tableResultSettingsMap": {},
     "title": ""
    }
   },
   "source": [
    "##Q6 – High Tipping Trips\n",
    "\n",
    "Of all tipped trips, only 0.83% had tips exceeding 15% of fare, showing that while tipping is common, generous tipping is rare. Most passengers tip modestly, aligning with expected urban behavior."
   ]
  },
  {
   "cell_type": "markdown",
   "metadata": {
    "application/vnd.databricks.v1+cell": {
     "cellMetadata": {
      "byteLimit": 2048000,
      "rowLimit": 10000
     },
     "inputWidgets": {},
     "nuid": "ce0ff537-5882-42c2-acb7-5185728115b2",
     "showTitle": false,
     "tableResultSettingsMap": {},
     "title": ""
    }
   },
   "source": [
    "##Q7 – Duration-Based Fare Analysis\n",
    "\n",
    "Short trips less than 10 mins dominate in volume, with higher fares per minute due to base charges. As trip duration increases, fares per trip rise, but fares per minute decrease, reflecting economies of scale. This pattern confirms logical pricing behavior: longer trips are cheaper on a per-minute basis."
   ]
  },
  {
   "cell_type": "code",
   "execution_count": 0,
   "metadata": {
    "application/vnd.databricks.v1+cell": {
     "cellMetadata": {
      "byteLimit": 2048000,
      "rowLimit": 10000
     },
     "inputWidgets": {},
     "nuid": "a248c566-d9b1-4288-a776-5b613b4e0075",
     "showTitle": false,
     "tableResultSettingsMap": {},
     "title": ""
    }
   },
   "outputs": [],
   "source": [
    "from pyspark.sql.functions import when\n",
    "\n",
    "\n",
    "taxi_trips_binned = taxi_trips_cleaned.withColumn(\n",
    "    \"duration_bin\",\n",
    "    when(F.col(\"duration_sec\") < 300, \"Under 5 mins\")\n",
    "    .when((F.col(\"duration_sec\") >= 300) & (F.col(\"duration_sec\") < 600), \"5–10 mins\")\n",
    "    .when((F.col(\"duration_sec\") >= 600) & (F.col(\"duration_sec\") < 1200), \"10–20 mins\")\n",
    "    .when((F.col(\"duration_sec\") >= 1200) & (F.col(\"duration_sec\") < 1800), \"20–30 mins\")\n",
    "    .when((F.col(\"duration_sec\") >= 1800) & (F.col(\"duration_sec\") < 3600), \"30–60 mins\")\n",
    "    .otherwise(\"60+ mins\")\n",
    ")\n",
    "\n",
    "q7_summary = (\n",
    "    taxi_trips_binned\n",
    "    .groupBy(\"duration_bin\")\n",
    "    .agg(\n",
    "        F.count(\"*\").alias(\"total_trips\"),\n",
    "        F.round(F.avg(\"total_amount\"), 2).alias(\"avg_fare_per_trip\"),\n",
    "        F.round((F.avg(\"total_amount\") / (F.avg(\"duration_sec\")/60)), 2).alias(\"avg_fare_per_minute\")\n",
    "    )\n",
    "    .orderBy(\"duration_bin\")\n",
    ")\n",
    "\n",
    "plt.figure(figsize=(10, 6))\n",
    "sns.barplot(\n",
    "    data=q7_summary.toPandas(),\n",
    "    x=\"duration_bin\",\n",
    "    y=\"avg_fare_per_trip\",\n",
    "    palette=\"magma\"\n",
    ")\n",
    "\n",
    "plt.title(\"Avg Fare per Trip across Duration Bins\", fontsize=14)\n",
    "plt.xlabel(\"Trip Duration Bin\")\n",
    "plt.ylabel(\"Avg Fare ($)\")\n",
    "plt.show()\n",
    "\n"
   ]
  },
  {
   "cell_type": "markdown",
   "metadata": {
    "application/vnd.databricks.v1+cell": {
     "cellMetadata": {
      "byteLimit": 2048000,
      "rowLimit": 10000
     },
     "inputWidgets": {},
     "nuid": "0a73e1ae-ea1d-4e61-9818-1e52daaef572",
     "showTitle": false,
     "tableResultSettingsMap": {},
     "title": ""
    }
   },
   "source": [
    "##Q8 – Predictive Modelling\n",
    "\n",
    "We compared a baseline model, Linear Regression, and Random Forest.\n",
    "\n",
    "Baseline RMSE: ~25.9\n",
    "\n",
    "Linear Regression RMSE: ~10.0\n",
    "\n",
    "Random Forest RMSE: ~4.6\n",
    "\n",
    "The Random Forest model clearly outperformed others, capturing non-linear relationships (distance, duration, surcharges) better than linear methods. This demonstrates the value of ensemble learning for taxi fare prediction."
   ]
  }
 ],
 "metadata": {
  "application/vnd.databricks.v1+notebook": {
   "computePreferences": {
    "hardware": {
     "accelerator": null,
     "gpuPoolId": null,
     "memory": null
    }
   },
   "dashboards": [],
   "environmentMetadata": {
    "base_environment": "",
    "dependencies": [
     "scikit-learn",
     "numpy",
     "threadpoolctl==3.2.0"
    ],
    "environment_version": "3"
   },
   "inputWidgetPreferences": null,
   "language": "python",
   "notebookMetadata": {
    "mostRecentlyExecutedCommandWithImplicitDF": {
     "commandId": 7646024231489246,
     "dataframes": [
      "_sqldf"
     ]
    },
    "pythonIndentUnit": 4
   },
   "notebookName": "25217353_AT_2",
   "widgets": {}
  },
  "colab": {
   "provenance": []
  },
  "kernelspec": {
   "display_name": "Python 3",
   "name": "python3"
  },
  "language_info": {
   "name": "python"
  }
 },
 "nbformat": 4,
 "nbformat_minor": 0
}
